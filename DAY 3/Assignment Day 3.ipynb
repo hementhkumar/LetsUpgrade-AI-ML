{
 "cells": [
  {
   "cell_type": "markdown",
   "metadata": {},
   "source": [
    "# 1-Program to Substract two complex number\n",
    "I tried 3 senario here for substraction."
   ]
  },
  {
   "cell_type": "code",
   "execution_count": 3,
   "metadata": {},
   "outputs": [
    {
     "data": {
      "text/plain": [
       "-1"
      ]
     },
     "execution_count": 3,
     "metadata": {},
     "output_type": "execute_result"
    }
   ],
   "source": [
    "99-100"
   ]
  },
  {
   "cell_type": "code",
   "execution_count": 4,
   "metadata": {},
   "outputs": [
    {
     "data": {
      "text/plain": [
       "499748"
      ]
     },
     "execution_count": 4,
     "metadata": {},
     "output_type": "execute_result"
    }
   ],
   "source": [
    "959487-459739"
   ]
  },
  {
   "cell_type": "code",
   "execution_count": 6,
   "metadata": {},
   "outputs": [
    {
     "data": {
      "text/plain": [
       "-75110.0"
      ]
     },
     "execution_count": 6,
     "metadata": {},
     "output_type": "execute_result"
    }
   ],
   "source": [
    "657.67-75767.67"
   ]
  },
  {
   "cell_type": "code",
   "execution_count": 12,
   "metadata": {},
   "outputs": [
    {
     "name": "stdout",
     "output_type": "stream",
     "text": [
      "0\n"
     ]
    }
   ],
   "source": [
    "Substract= 45-45\n",
    "\n",
    "\n",
    "print(Substract)"
   ]
  },
  {
   "cell_type": "markdown",
   "metadata": {},
   "source": [
    "# 2-Programe to find the fourth root of a number\n"
   ]
  },
  {
   "cell_type": "code",
   "execution_count": 18,
   "metadata": {},
   "outputs": [
    {
     "data": {
      "text/plain": [
       "20736"
      ]
     },
     "execution_count": 18,
     "metadata": {},
     "output_type": "execute_result"
    }
   ],
   "source": [
    "12**4  #means \"2 raised to the power\"\n"
   ]
  },
  {
   "cell_type": "markdown",
   "metadata": {},
   "source": [
    "# 3-Swap wo numbers with the help of temporary variable"
   ]
  },
  {
   "cell_type": "code",
   "execution_count": 11,
   "metadata": {},
   "outputs": [
    {
     "name": "stdout",
     "output_type": "stream",
     "text": [
      "value of a= 4\n",
      "value of b= 3\n"
     ]
    }
   ],
   "source": [
    "a=3\n",
    "b=4\n",
    "temp = a\n",
    "a=b\n",
    "b=temp\n",
    "print(\"value of a=\",a)\n",
    "print (\"value of b=\",b)"
   ]
  },
  {
   "cell_type": "markdown",
   "metadata": {},
   "source": [
    "# 4-Swap two numbers in python without using a temporary variable"
   ]
  },
  {
   "cell_type": "code",
   "execution_count": 13,
   "metadata": {},
   "outputs": [
    {
     "name": "stdout",
     "output_type": "stream",
     "text": [
      "value of a= 5\n",
      "value of b= 10\n"
     ]
    }
   ],
   "source": [
    "a=10\n",
    "b=5\n",
    "a=a+b  # value is 15.\n",
    "b=a-b  #vlaue is 10.\n",
    "a=a-b  #value is 5\n",
    "\n",
    "print(\"value of a=\", a)\n",
    "print(\"value of b=\", b)"
   ]
  },
  {
   "cell_type": "code",
   "execution_count": 32,
   "metadata": {},
   "outputs": [
    {
     "name": "stdout",
     "output_type": "stream",
     "text": [
      "value of a= 2\n",
      "value of b= 5\n",
      "Sum= 7\n"
     ]
    }
   ],
   "source": [
    "a = 2\n",
    "b = 5\n",
    "c = a + b\n",
    "c\n",
    "print('value of a=',2)\n",
    "print('value of b=',5)\n",
    "print('Sum=',c)\n",
    "\n",
    "#here i tried to pull down the discreption of the swap numbers and way of getting result."
   ]
  },
  {
   "cell_type": "markdown",
   "metadata": {},
   "source": [
    "# 5-Convert fahrenheit to kelvin and celsius both\n",
    "#convert temperature from Fahrenheit to Celsius\n",
    "\n",
    "#Let's suppose there is f =fahrenheit \n",
    "#and you have to convert it into celsius \n",
    "#Let's suppose c =celsius\n",
    "#How to convert Fahrenheit to Celsius -->\n",
    "#The temperature T in degrees Celsius (°C) is equal to the temperature T in degrees Fahrenheit (°F) minus 32, times 5/9\n",
    "f= 68\n",
    "c=(68-32)*5/9\n",
    "c"
   ]
  },
  {
   "cell_type": "code",
   "execution_count": 6,
   "metadata": {},
   "outputs": [
    {
     "data": {
      "text/plain": [
       "20.0"
      ]
     },
     "execution_count": 6,
     "metadata": {},
     "output_type": "execute_result"
    }
   ],
   "source": [
    "f=68\n",
    "c=(68-32)*5/9\n",
    "c                  #__ will provide celsius and it type of float.__ "
   ]
  },
  {
   "cell_type": "code",
   "execution_count": 2,
   "metadata": {},
   "outputs": [
    {
     "data": {
      "text/plain": [
       "float"
      ]
     },
     "execution_count": 2,
     "metadata": {},
     "output_type": "execute_result"
    }
   ],
   "source": [
    "type(c)"
   ]
  },
  {
   "cell_type": "code",
   "execution_count": 5,
   "metadata": {},
   "outputs": [
    {
     "data": {
      "text/plain": [
       "283.15"
      ]
     },
     "execution_count": 5,
     "metadata": {},
     "output_type": "execute_result"
    }
   ],
   "source": [
    "#Celsius to Kelvin conversion \n",
    "#using same value.\n",
    "\n",
    "#kelvin= celcius+273.15\n",
    "#k=?\n",
    "k=20+273.15     \n",
    "k\n"
   ]
  },
  {
   "cell_type": "code",
   "execution_count": 7,
   "metadata": {},
   "outputs": [
    {
     "data": {
      "text/plain": [
       "float"
      ]
     },
     "execution_count": 7,
     "metadata": {},
     "output_type": "execute_result"
    }
   ],
   "source": [
    "type(k)"
   ]
  },
  {
   "cell_type": "markdown",
   "metadata": {},
   "source": [
    "# 6-Demonstrate all the available data types in python.\n"
   ]
  },
  {
   "cell_type": "code",
   "execution_count": null,
   "metadata": {},
   "outputs": [],
   "source": [
    "#here is the list of data type:-\n",
    "\n",
    "Text Type:\tstr\n",
    "Numeric Types:\tint, float, complex\n",
    "Sequence Types:\tlist, tuple, range\n",
    "Mapping Type:\tdict\n",
    "Boolean Type:\tbool\n"
   ]
  },
  {
   "cell_type": "markdown",
   "metadata": {},
   "source": [
    "# 7-Step to create Github profile and upload githubs assignment link.\n",
    "\n",
    "\n",
    "🤔 How to submit Assignments?\n",
    "\n",
    "Create a Github public repo and name it LetsUpgrade AI/ML\n",
    "Upload the files/solution in the repo in day wise manner.\n",
    "Copy the URL of the Folder of that day and paste in the Assignment Submission Form (Google Form)\n",
    "Make sure you are filling correct details in the Assignment Submission Form.\n",
    "All the drop-downs will be available till the week end only. i.e Previous weeks drop-down will disappear on each Sunday 11:59 PM\n",
    "You have to submit all the assignment given during the weekdays by respective SUNDAY 11:59 PM IST."
   ]
  }
 ],
 "metadata": {
  "kernelspec": {
   "display_name": "Python 3",
   "language": "python",
   "name": "python3"
  },
  "language_info": {
   "codemirror_mode": {
    "name": "ipython",
    "version": 3
   },
   "file_extension": ".py",
   "mimetype": "text/x-python",
   "name": "python",
   "nbconvert_exporter": "python",
   "pygments_lexer": "ipython3",
   "version": "3.7.6"
  }
 },
 "nbformat": 4,
 "nbformat_minor": 4
}
